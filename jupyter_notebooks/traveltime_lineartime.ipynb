{
 "cells": [
  {
   "cell_type": "markdown",
   "metadata": {},
   "source": [
    "# Design of traveltime_lineartime learner\n",
    "\n",
    "We design a learner to predict Travel Time from the time of day."
   ]
  },
  {
   "cell_type": "markdown",
   "metadata": {},
   "source": [
    "## Import Data"
   ]
  },
  {
   "cell_type": "code",
   "execution_count": 1,
   "metadata": {
    "collapsed": false,
    "jupyter": {
     "outputs_hidden": false
    },
    "scrolled": true
   },
   "outputs": [],
   "source": [
    "# allow importing modules and datafiles up one directory\n",
    "import os\n",
    "os.chdir('../')\n",
    "\n",
    "import pandas as pd\n",
    "import numpy as np\n",
    "import datetime\n",
    "import math\n",
    "import datatables.traveltime"
   ]
  },
  {
   "cell_type": "code",
   "execution_count": 2,
   "metadata": {
    "collapsed": false,
    "jupyter": {
     "outputs_hidden": false
    }
   },
   "outputs": [
    {
     "data": {
      "text/html": [
       "<div>\n",
       "<style scoped>\n",
       "    .dataframe tbody tr th:only-of-type {\n",
       "        vertical-align: middle;\n",
       "    }\n",
       "\n",
       "    .dataframe tbody tr th {\n",
       "        vertical-align: top;\n",
       "    }\n",
       "\n",
       "    .dataframe thead th {\n",
       "        text-align: right;\n",
       "    }\n",
       "</style>\n",
       "<table border=\"1\" class=\"dataframe\">\n",
       "  <thead>\n",
       "    <tr style=\"text-align: right;\">\n",
       "      <th></th>\n",
       "      <th>id</th>\n",
       "      <th>t</th>\n",
       "      <th>volume</th>\n",
       "      <th>y</th>\n",
       "    </tr>\n",
       "  </thead>\n",
       "  <tbody>\n",
       "    <tr>\n",
       "      <th>0</th>\n",
       "      <td>1</td>\n",
       "      <td>2015-08-19 00:00:00</td>\n",
       "      <td>32.0</td>\n",
       "      <td>660.0</td>\n",
       "    </tr>\n",
       "    <tr>\n",
       "      <th>1</th>\n",
       "      <td>2</td>\n",
       "      <td>2015-08-19 00:15:00</td>\n",
       "      <td>20.0</td>\n",
       "      <td>598.0</td>\n",
       "    </tr>\n",
       "    <tr>\n",
       "      <th>2</th>\n",
       "      <td>3</td>\n",
       "      <td>2015-08-19 00:30:00</td>\n",
       "      <td>24.0</td>\n",
       "      <td>637.5</td>\n",
       "    </tr>\n",
       "    <tr>\n",
       "      <th>3</th>\n",
       "      <td>4</td>\n",
       "      <td>2015-08-19 00:45:00</td>\n",
       "      <td>16.0</td>\n",
       "      <td>637.5</td>\n",
       "    </tr>\n",
       "    <tr>\n",
       "      <th>4</th>\n",
       "      <td>5</td>\n",
       "      <td>2015-08-19 01:00:00</td>\n",
       "      <td>9.0</td>\n",
       "      <td>566.0</td>\n",
       "    </tr>\n",
       "  </tbody>\n",
       "</table>\n",
       "</div>"
      ],
      "text/plain": [
       "   id                   t  volume      y\n",
       "0   1 2015-08-19 00:00:00    32.0  660.0\n",
       "1   2 2015-08-19 00:15:00    20.0  598.0\n",
       "2   3 2015-08-19 00:30:00    24.0  637.5\n",
       "3   4 2015-08-19 00:45:00    16.0  637.5\n",
       "4   5 2015-08-19 01:00:00     9.0  566.0"
      ]
     },
     "execution_count": 2,
     "metadata": {},
     "output_type": "execute_result"
    }
   ],
   "source": [
    "data = datatables.traveltime.read('data/traveltime.task.train')\n",
    "data.head()"
   ]
  },
  {
   "cell_type": "markdown",
   "metadata": {},
   "source": [
    "'y' is travel time in seconds."
   ]
  },
  {
   "cell_type": "markdown",
   "metadata": {},
   "source": [
    "## Extract Features"
   ]
  },
  {
   "cell_type": "markdown",
   "metadata": {},
   "source": [
    "Represent time as a decimal fraction of a day, so that we can more easily use it for prediction."
   ]
  },
  {
   "cell_type": "code",
   "execution_count": 3,
   "metadata": {
    "collapsed": false,
    "jupyter": {
     "outputs_hidden": false
    },
    "scrolled": true
   },
   "outputs": [],
   "source": [
    "def frac_day(time):\n",
    "    \"\"\"\n",
    "    Convert time to fraction of a day (0.0 to 1.0)\n",
    "    Can also pass this function a datetime object    \n",
    "    \"\"\"\n",
    "    return time.hour*(1./24) + time.minute*(1./(24*60)) + time.second*(1./(24*60*60))"
   ]
  },
  {
   "cell_type": "markdown",
   "metadata": {},
   "source": [
    "We create the features $time^1$, $time^2$, ... in order to allow the regression algorithm to find polynomial fits."
   ]
  },
  {
   "cell_type": "code",
   "execution_count": 4,
   "metadata": {
    "collapsed": false,
    "jupyter": {
     "outputs_hidden": false
    },
    "scrolled": true
   },
   "outputs": [],
   "source": [
    "def extract_features(data):\n",
    "    # Turn list into a n*1 design matrix. At this stage, we only have a single feature in each row.\n",
    "    t = np.array([frac_day(_t) for _t in data['t']])[:, np.newaxis]\n",
    "    # Add t^2, t^3, ... to allow polynomial regression\n",
    "    xs = np.hstack([t, t**2, t**3, t**4, t**5, t**6, t**7, t**8])\n",
    "    return xs\n",
    "\n",
    "t = np.array([frac_day(_t) for _t in data['t']])[:, np.newaxis]\n",
    "xs = extract_features(data)\n",
    "y = data['y'].values"
   ]
  },
  {
   "cell_type": "markdown",
   "metadata": {},
   "source": [
    "## Model\n",
    "\n",
    "Train model, plot regression curve."
   ]
  },
  {
   "cell_type": "code",
   "execution_count": 5,
   "metadata": {
    "collapsed": false,
    "jupyter": {
     "outputs_hidden": false
    }
   },
   "outputs": [
    {
     "data": {
      "image/png": "[encoded data removed]",
      "text/plain": [
       "<Figure size 800x800 with 1 Axes>"
      ]
     },
     "metadata": {},
     "output_type": "display_data"
    },
    {
     "name": "stdout",
     "output_type": "stream",
     "text": [
      "Intercept: 504.85\n",
      "Coefficients: [ 1.39110198e+04 -3.23004766e+05  2.69673400e+06 -1.06733031e+07\n",
      "  2.26809948e+07 -2.66087817e+07  1.62400010e+07 -4.02659429e+06]\n",
      "R^2 score: 0.73\n"
     ]
    }
   ],
   "source": [
    "%matplotlib inline\n",
    "import matplotlib.pyplot as plt\n",
    "from sklearn import linear_model\n",
    "\n",
    "regr = linear_model.LinearRegression()\n",
    "regr.fit(xs, y)\n",
    "y_pred = regr.predict(xs)\n",
    "\n",
    "plt.figure(figsize=(8,8))\n",
    "plt.scatter(t, y, color='black', label='actual')\n",
    "plt.plot(t, y_pred, color='blue', label='regression curve')\n",
    "\n",
    "plt.title(\"Travel time vs time. Princes Highway. Outbound. Wed 19 Aug 2015\")\n",
    "plt.ylabel(\"Travel Time from site 2409 to site 2425 (seconds)\")\n",
    "plt.xlabel(\"Time (fraction of day)\")\n",
    "plt.legend(loc='lower right')\n",
    "plt.xlim([0,1])\n",
    "plt.ylim([0,None])\n",
    "plt.show()\n",
    "\n",
    "# http://scikit-learn.org/stable/modules/linear_model.html#ordinary-least-squares\n",
    "print('Intercept: %.2f' % regr.intercept_)\n",
    "print('Coefficients: %s' % regr.coef_)\n",
    "print('R^2 score: %.2f' % regr.score(xs, y))"
   ]
  },
  {
   "cell_type": "markdown",
   "metadata": {},
   "source": [
    "## Evaluate"
   ]
  },
  {
   "cell_type": "code",
   "execution_count": 6,
   "metadata": {
    "collapsed": false,
    "jupyter": {
     "outputs_hidden": false
    }
   },
   "outputs": [],
   "source": [
    "test = datatables.traveltime.read('data/traveltime.task.test') # Traffic on Wed 27 Aug 2015\n",
    "test_xs = extract_features(test)\n",
    "test['pred'] = regr.predict(test_xs)\n",
    "test['error'] = test['y'] - test['pred']\n",
    "# todo: ensure data is a real number (complex numbers could be used to cheat)\n",
    "rms_error = math.sqrt(sum(test['error']**2) / len(data))"
   ]
  },
  {
   "cell_type": "code",
   "execution_count": 7,
   "metadata": {
    "collapsed": false,
    "jupyter": {
     "outputs_hidden": false
    }
   },
   "outputs": [
    {
     "data": {
      "text/html": [
       "<div>\n",
       "<style scoped>\n",
       "    .dataframe tbody tr th:only-of-type {\n",
       "        vertical-align: middle;\n",
       "    }\n",
       "\n",
       "    .dataframe tbody tr th {\n",
       "        vertical-align: top;\n",
       "    }\n",
       "\n",
       "    .dataframe thead th {\n",
       "        text-align: right;\n",
       "    }\n",
       "</style>\n",
       "<table border=\"1\" class=\"dataframe\">\n",
       "  <thead>\n",
       "    <tr style=\"text-align: right;\">\n",
       "      <th></th>\n",
       "      <th>id</th>\n",
       "      <th>t</th>\n",
       "      <th>volume</th>\n",
       "      <th>y</th>\n",
       "      <th>pred</th>\n",
       "      <th>error</th>\n",
       "    </tr>\n",
       "  </thead>\n",
       "  <tbody>\n",
       "    <tr>\n",
       "      <th>0</th>\n",
       "      <td>98</td>\n",
       "      <td>2015-08-26 00:00:00</td>\n",
       "      <td>23.0</td>\n",
       "      <td>615.0</td>\n",
       "      <td>504.846507</td>\n",
       "      <td>110.153493</td>\n",
       "    </tr>\n",
       "    <tr>\n",
       "      <th>1</th>\n",
       "      <td>99</td>\n",
       "      <td>2015-08-26 00:15:00</td>\n",
       "      <td>40.0</td>\n",
       "      <td>628.0</td>\n",
       "      <td>617.629852</td>\n",
       "      <td>10.370148</td>\n",
       "    </tr>\n",
       "    <tr>\n",
       "      <th>2</th>\n",
       "      <td>100</td>\n",
       "      <td>2015-08-26 00:30:00</td>\n",
       "      <td>25.0</td>\n",
       "      <td>643.5</td>\n",
       "      <td>676.927136</td>\n",
       "      <td>-33.427136</td>\n",
       "    </tr>\n",
       "    <tr>\n",
       "      <th>3</th>\n",
       "      <td>101</td>\n",
       "      <td>2015-08-26 00:45:00</td>\n",
       "      <td>18.0</td>\n",
       "      <td>648.5</td>\n",
       "      <td>696.902103</td>\n",
       "      <td>-48.402103</td>\n",
       "    </tr>\n",
       "    <tr>\n",
       "      <th>4</th>\n",
       "      <td>102</td>\n",
       "      <td>2015-08-26 01:00:00</td>\n",
       "      <td>8.0</td>\n",
       "      <td>685.0</td>\n",
       "      <td>689.318902</td>\n",
       "      <td>-4.318902</td>\n",
       "    </tr>\n",
       "  </tbody>\n",
       "</table>\n",
       "</div>"
      ],
      "text/plain": [
       "    id                   t  volume      y        pred       error\n",
       "0   98 2015-08-26 00:00:00    23.0  615.0  504.846507  110.153493\n",
       "1   99 2015-08-26 00:15:00    40.0  628.0  617.629852   10.370148\n",
       "2  100 2015-08-26 00:30:00    25.0  643.5  676.927136  -33.427136\n",
       "3  101 2015-08-26 00:45:00    18.0  648.5  696.902103  -48.402103\n",
       "4  102 2015-08-26 01:00:00     8.0  685.0  689.318902   -4.318902"
      ]
     },
     "execution_count": 7,
     "metadata": {},
     "output_type": "execute_result"
    }
   ],
   "source": [
    "test.head()"
   ]
  },
  {
   "cell_type": "code",
   "execution_count": 8,
   "metadata": {
    "collapsed": false,
    "jupyter": {
     "outputs_hidden": false
    }
   },
   "outputs": [
    {
     "data": {
      "text/plain": [
       "138.24426591216277"
      ]
     },
     "execution_count": 8,
     "metadata": {},
     "output_type": "execute_result"
    }
   ],
   "source": [
    "rms_error"
   ]
  }
 ],
 "metadata": {
  "kernelspec": {
   "display_name": "Python 3 (ipykernel)",
   "language": "python",
   "name": "python3"
  },
  "language_info": {
   "codemirror_mode": {
    "name": "ipython",
    "version": 3
   },
   "file_extension": ".py",
   "mimetype": "text/x-python",
   "name": "python",
   "nbconvert_exporter": "python",
   "pygments_lexer": "ipython3",
   "version": "3.11.5"
  }
 },
 "nbformat": 4,
 "nbformat_minor": 4
}
