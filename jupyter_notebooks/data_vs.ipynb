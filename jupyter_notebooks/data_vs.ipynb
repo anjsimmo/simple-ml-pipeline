{
 "cells": [
  {
   "cell_type": "markdown",
   "metadata": {},
   "source": [
    "# Wrangle Volume Data\n",
    "\n",
    "We wrangle the traffic volume data into a workable format, and extract just the site and detector we are interested in."
   ]
  },
  {
   "cell_type": "markdown",
   "metadata": {},
   "source": [
    "## Import data"
   ]
  },
  {
   "cell_type": "code",
   "execution_count": 1,
   "metadata": {
    "collapsed": false
   },
   "outputs": [],
   "source": [
    "import pandas as pd\n",
    "f = pd.read_csv('../data/VSDATA_20150819.csv')"
   ]
  },
  {
   "cell_type": "markdown",
   "metadata": {},
   "source": [
    "## Filter data\n",
    "\n",
    "Filter to site 2433 (mid-way along segment of Princes freeway monitored by bluetooth detector sites). Detectors 4-6 are in the outbound/westbound lanes."
   ]
  },
  {
   "cell_type": "code",
   "execution_count": 2,
   "metadata": {
    "collapsed": false,
    "scrolled": false
   },
   "outputs": [
    {
     "data": {
      "text/html": [
       "<div>\n",
       "<table border=\"1\" class=\"dataframe\">\n",
       "  <thead>\n",
       "    <tr style=\"text-align: right;\">\n",
       "      <th></th>\n",
       "      <th>NB_SCATS_SITE</th>\n",
       "      <th>NM_REGION</th>\n",
       "      <th>QT_INTERVAL_COUNT</th>\n",
       "      <th>NB_DETECTOR</th>\n",
       "      <th>V00</th>\n",
       "      <th>V01</th>\n",
       "      <th>V02</th>\n",
       "      <th>V03</th>\n",
       "      <th>V04</th>\n",
       "      <th>V05</th>\n",
       "      <th>...</th>\n",
       "      <th>V89</th>\n",
       "      <th>V90</th>\n",
       "      <th>V91</th>\n",
       "      <th>V92</th>\n",
       "      <th>V93</th>\n",
       "      <th>V94</th>\n",
       "      <th>V95</th>\n",
       "      <th>CT_RECORDS</th>\n",
       "      <th>QT_VOLUME_24HOUR</th>\n",
       "      <th>CT_ALARM_24HOUR</th>\n",
       "    </tr>\n",
       "  </thead>\n",
       "  <tbody>\n",
       "    <tr>\n",
       "      <th>26093</th>\n",
       "      <td>2433</td>\n",
       "      <td>GLI</td>\n",
       "      <td>2015-08-19 00:00:00</td>\n",
       "      <td>4</td>\n",
       "      <td>38</td>\n",
       "      <td>38</td>\n",
       "      <td>32</td>\n",
       "      <td>24</td>\n",
       "      <td>24</td>\n",
       "      <td>19</td>\n",
       "      <td>...</td>\n",
       "      <td>90</td>\n",
       "      <td>75</td>\n",
       "      <td>76</td>\n",
       "      <td>64</td>\n",
       "      <td>64</td>\n",
       "      <td>44</td>\n",
       "      <td>36</td>\n",
       "      <td>96</td>\n",
       "      <td>9126</td>\n",
       "      <td>0</td>\n",
       "    </tr>\n",
       "    <tr>\n",
       "      <th>26094</th>\n",
       "      <td>2433</td>\n",
       "      <td>GLI</td>\n",
       "      <td>2015-08-19 00:00:00</td>\n",
       "      <td>5</td>\n",
       "      <td>42</td>\n",
       "      <td>41</td>\n",
       "      <td>37</td>\n",
       "      <td>24</td>\n",
       "      <td>23</td>\n",
       "      <td>17</td>\n",
       "      <td>...</td>\n",
       "      <td>100</td>\n",
       "      <td>94</td>\n",
       "      <td>75</td>\n",
       "      <td>80</td>\n",
       "      <td>67</td>\n",
       "      <td>54</td>\n",
       "      <td>41</td>\n",
       "      <td>96</td>\n",
       "      <td>9866</td>\n",
       "      <td>0</td>\n",
       "    </tr>\n",
       "    <tr>\n",
       "      <th>26095</th>\n",
       "      <td>2433</td>\n",
       "      <td>GLI</td>\n",
       "      <td>2015-08-19 00:00:00</td>\n",
       "      <td>6</td>\n",
       "      <td>32</td>\n",
       "      <td>20</td>\n",
       "      <td>24</td>\n",
       "      <td>16</td>\n",
       "      <td>9</td>\n",
       "      <td>13</td>\n",
       "      <td>...</td>\n",
       "      <td>94</td>\n",
       "      <td>80</td>\n",
       "      <td>72</td>\n",
       "      <td>64</td>\n",
       "      <td>45</td>\n",
       "      <td>41</td>\n",
       "      <td>22</td>\n",
       "      <td>96</td>\n",
       "      <td>9675</td>\n",
       "      <td>0</td>\n",
       "    </tr>\n",
       "  </tbody>\n",
       "</table>\n",
       "<p>3 rows × 103 columns</p>\n",
       "</div>"
      ],
      "text/plain": [
       "       NB_SCATS_SITE NM_REGION    QT_INTERVAL_COUNT  NB_DETECTOR  V00  V01  \\\n",
       "26093           2433       GLI  2015-08-19 00:00:00            4   38   38   \n",
       "26094           2433       GLI  2015-08-19 00:00:00            5   42   41   \n",
       "26095           2433       GLI  2015-08-19 00:00:00            6   32   20   \n",
       "\n",
       "       V02  V03  V04  V05       ...         V89  V90  V91  V92  V93  V94  V95  \\\n",
       "26093   32   24   24   19       ...          90   75   76   64   64   44   36   \n",
       "26094   37   24   23   17       ...         100   94   75   80   67   54   41   \n",
       "26095   24   16    9   13       ...          94   80   72   64   45   41   22   \n",
       "\n",
       "       CT_RECORDS  QT_VOLUME_24HOUR  CT_ALARM_24HOUR  \n",
       "26093          96              9126                0  \n",
       "26094          96              9866                0  \n",
       "26095          96              9675                0  \n",
       "\n",
       "[3 rows x 103 columns]"
      ]
     },
     "execution_count": 2,
     "metadata": {},
     "output_type": "execute_result"
    }
   ],
   "source": [
    "vols = f[(f[\"NB_SCATS_SITE\"] == 2433) & f[\"NB_DETECTOR\"].between(4,6)]\n",
    "vols"
   ]
  },
  {
   "cell_type": "markdown",
   "metadata": {},
   "source": [
    "## Date range\n",
    "\n",
    "Extract date from CSV data"
   ]
  },
  {
   "cell_type": "code",
   "execution_count": 3,
   "metadata": {
    "collapsed": false,
    "scrolled": true
   },
   "outputs": [
    {
     "data": {
      "text/plain": [
       "DatetimeIndex(['2015-08-19 00:00:00', '2015-08-19 00:15:00',\n",
       "               '2015-08-19 00:30:00', '2015-08-19 00:45:00',\n",
       "               '2015-08-19 01:00:00', '2015-08-19 01:15:00',\n",
       "               '2015-08-19 01:30:00', '2015-08-19 01:45:00',\n",
       "               '2015-08-19 02:00:00', '2015-08-19 02:15:00'],\n",
       "              dtype='datetime64[ns]', freq='15T')"
      ]
     },
     "execution_count": 3,
     "metadata": {},
     "output_type": "execute_result"
    }
   ],
   "source": [
    "import datetime\n",
    "start_date = vols[\"QT_INTERVAL_COUNT\"].iloc[0]\n",
    "start_datetime = datetime.datetime.strptime(start_date, '%Y-%m-%d 00:00:00')\n",
    "date_range = pd.date_range(start_datetime, periods=96, freq='15T')\n",
    "date_range[:10] # show first 10 rows"
   ]
  },
  {
   "cell_type": "markdown",
   "metadata": {},
   "source": [
    "## Transform data\n",
    "\n",
    "Transpose table. Label by time rather than interval. Use detector number as headers."
   ]
  },
  {
   "cell_type": "code",
   "execution_count": 4,
   "metadata": {
    "collapsed": false,
    "scrolled": true
   },
   "outputs": [
    {
     "data": {
      "text/html": [
       "<div>\n",
       "<table border=\"1\" class=\"dataframe\">\n",
       "  <thead>\n",
       "    <tr style=\"text-align: right;\">\n",
       "      <th></th>\n",
       "      <th>4</th>\n",
       "      <th>5</th>\n",
       "      <th>6</th>\n",
       "    </tr>\n",
       "  </thead>\n",
       "  <tbody>\n",
       "    <tr>\n",
       "      <th>2015-08-19 00:00:00</th>\n",
       "      <td>38</td>\n",
       "      <td>42</td>\n",
       "      <td>32</td>\n",
       "    </tr>\n",
       "    <tr>\n",
       "      <th>2015-08-19 00:15:00</th>\n",
       "      <td>38</td>\n",
       "      <td>41</td>\n",
       "      <td>20</td>\n",
       "    </tr>\n",
       "    <tr>\n",
       "      <th>2015-08-19 00:30:00</th>\n",
       "      <td>32</td>\n",
       "      <td>37</td>\n",
       "      <td>24</td>\n",
       "    </tr>\n",
       "    <tr>\n",
       "      <th>2015-08-19 00:45:00</th>\n",
       "      <td>24</td>\n",
       "      <td>24</td>\n",
       "      <td>16</td>\n",
       "    </tr>\n",
       "    <tr>\n",
       "      <th>2015-08-19 01:00:00</th>\n",
       "      <td>24</td>\n",
       "      <td>23</td>\n",
       "      <td>9</td>\n",
       "    </tr>\n",
       "  </tbody>\n",
       "</table>\n",
       "</div>"
      ],
      "text/plain": [
       "                      4   5   6\n",
       "2015-08-19 00:00:00  38  42  32\n",
       "2015-08-19 00:15:00  38  41  20\n",
       "2015-08-19 00:30:00  32  37  24\n",
       "2015-08-19 00:45:00  24  24  16\n",
       "2015-08-19 01:00:00  24  23   9"
      ]
     },
     "execution_count": 4,
     "metadata": {},
     "output_type": "execute_result"
    }
   ],
   "source": [
    "dets = vols.T\n",
    "dets.columns = dets.loc[\"NB_DETECTOR\"].values\n",
    "dets = dets.loc['V00':'V95']\n",
    "dets.index=date_range\n",
    "dets.head()"
   ]
  },
  {
   "cell_type": "markdown",
   "metadata": {},
   "source": [
    "## Export data\n",
    "\n",
    "Extract just detector 6 (the rightmost lane)"
   ]
  },
  {
   "cell_type": "code",
   "execution_count": 5,
   "metadata": {
    "collapsed": false,
    "scrolled": false
   },
   "outputs": [
    {
     "data": {
      "text/plain": [
       "2015-08-19 00:00:00    32\n",
       "2015-08-19 00:15:00    20\n",
       "2015-08-19 00:30:00    24\n",
       "2015-08-19 00:45:00    16\n",
       "2015-08-19 01:00:00     9\n",
       "Freq: 15T, Name: 6, dtype: object"
      ]
     },
     "execution_count": 5,
     "metadata": {},
     "output_type": "execute_result"
    }
   ],
   "source": [
    "d6 = dets[6]\n",
    "d6.head()"
   ]
  },
  {
   "cell_type": "markdown",
   "metadata": {},
   "source": [
    "## Plots"
   ]
  },
  {
   "cell_type": "code",
   "execution_count": 6,
   "metadata": {
    "collapsed": false
   },
   "outputs": [
    {
     "data": {
      "image/png": "[encoded data removed]",
      "text/plain": [
       "<matplotlib.figure.Figure at 0x7f2109e046a0>"
      ]
     },
     "metadata": {},
     "output_type": "display_data"
    }
   ],
   "source": [
    "import numpy as np\n",
    "%matplotlib inline\n",
    "import matplotlib.pyplot as plt\n",
    "bins = np.linspace(0, max(d6), 51)\n",
    "plt.hist(d6, bins=bins)\n",
    "plt.show()"
   ]
  },
  {
   "cell_type": "code",
   "execution_count": 7,
   "metadata": {
    "collapsed": false
   },
   "outputs": [
    {
     "name": "stderr",
     "output_type": "stream",
     "text": [
      "/home/asimmons/anaconda3/lib/python3.5/site-packages/matplotlib/collections.py:590: FutureWarning: elementwise comparison failed; returning scalar instead, but in the future will perform elementwise comparison\n",
      "  if self._edgecolors == str('face'):\n"
     ]
    },
    {
     "data": {
      "image/png": "[encoded data removed]",
      "text/plain": [
       "<matplotlib.figure.Figure at 0x7f2109e04518>"
      ]
     },
     "metadata": {},
     "output_type": "display_data"
    }
   ],
   "source": [
    "plt.figure(figsize=(16,8))\n",
    "plt.scatter(np.arange(len(d6)), d6.values)\n",
    "plt.title(\"Volume Site 2433 Detector 6 (Outbound along Princes Highway). Wed 19 Aug 2015.\")\n",
    "plt.ylabel(\"Travel Time (seconds)\")\n",
    "plt.xlabel(\"Time Leave (15 min offset)\")\n",
    "plt.xlim([0,95])\n",
    "plt.ylim([0,None])\n",
    "plt.show()"
   ]
  }
 ],
 "metadata": {
  "kernelspec": {
   "display_name": "Python 3",
   "language": "python",
   "name": "python3"
  },
  "language_info": {
   "codemirror_mode": {
    "name": "ipython",
    "version": 3
   },
   "file_extension": ".py",
   "mimetype": "text/x-python",
   "name": "python",
   "nbconvert_exporter": "python",
   "pygments_lexer": "ipython3",
   "version": "3.5.0"
  }
 },
 "nbformat": 4,
 "nbformat_minor": 0
}
