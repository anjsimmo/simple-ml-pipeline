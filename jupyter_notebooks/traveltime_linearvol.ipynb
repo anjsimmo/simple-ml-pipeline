{
 "cells": [
  {
   "cell_type": "markdown",
   "metadata": {},
   "source": [
    "# Design of traveltime_linearvol learner\n",
    "\n",
    "We design a learner to predict Travel Time from the traffic volume."
   ]
  },
  {
   "cell_type": "markdown",
   "metadata": {},
   "source": [
    "## Import Data"
   ]
  },
  {
   "cell_type": "code",
   "execution_count": 1,
   "metadata": {
    "collapsed": true
   },
   "outputs": [],
   "source": [
    "# allow importing modules and datafiles up one directory\n",
    "import os\n",
    "os.chdir('../')\n",
    "\n",
    "import pandas as pd\n",
    "import numpy as np\n",
    "import datetime\n",
    "import math\n",
    "import datatables.traveltime"
   ]
  },
  {
   "cell_type": "code",
   "execution_count": 2,
   "metadata": {
    "collapsed": false
   },
   "outputs": [
    {
     "data": {
      "text/html": [
       "<div>\n",
       "<table border=\"1\" class=\"dataframe\">\n",
       "  <thead>\n",
       "    <tr style=\"text-align: right;\">\n",
       "      <th></th>\n",
       "      <th>id</th>\n",
       "      <th>t</th>\n",
       "      <th>volume</th>\n",
       "      <th>y</th>\n",
       "    </tr>\n",
       "  </thead>\n",
       "  <tbody>\n",
       "    <tr>\n",
       "      <th>0</th>\n",
       "      <td>0</td>\n",
       "      <td>2015-08-19 00:00:00</td>\n",
       "      <td>32</td>\n",
       "      <td>660.0</td>\n",
       "    </tr>\n",
       "    <tr>\n",
       "      <th>1</th>\n",
       "      <td>1</td>\n",
       "      <td>2015-08-19 00:15:00</td>\n",
       "      <td>20</td>\n",
       "      <td>598.0</td>\n",
       "    </tr>\n",
       "    <tr>\n",
       "      <th>2</th>\n",
       "      <td>2</td>\n",
       "      <td>2015-08-19 00:30:00</td>\n",
       "      <td>24</td>\n",
       "      <td>637.5</td>\n",
       "    </tr>\n",
       "    <tr>\n",
       "      <th>3</th>\n",
       "      <td>3</td>\n",
       "      <td>2015-08-19 00:45:00</td>\n",
       "      <td>16</td>\n",
       "      <td>637.5</td>\n",
       "    </tr>\n",
       "    <tr>\n",
       "      <th>4</th>\n",
       "      <td>4</td>\n",
       "      <td>2015-08-19 01:00:00</td>\n",
       "      <td>9</td>\n",
       "      <td>566.0</td>\n",
       "    </tr>\n",
       "  </tbody>\n",
       "</table>\n",
       "</div>"
      ],
      "text/plain": [
       "   id                   t  volume      y\n",
       "0   0 2015-08-19 00:00:00      32  660.0\n",
       "1   1 2015-08-19 00:15:00      20  598.0\n",
       "2   2 2015-08-19 00:30:00      24  637.5\n",
       "3   3 2015-08-19 00:45:00      16  637.5\n",
       "4   4 2015-08-19 01:00:00       9  566.0"
      ]
     },
     "execution_count": 2,
     "metadata": {},
     "output_type": "execute_result"
    }
   ],
   "source": [
    "data = datatables.traveltime.read('data/traveltime.task.train')\n",
    "data.head()"
   ]
  },
  {
   "cell_type": "markdown",
   "metadata": {},
   "source": [
    "'y' is travel time in seconds."
   ]
  },
  {
   "cell_type": "markdown",
   "metadata": {},
   "source": [
    "## Extract Features\n",
    "\n",
    "We create the feature $volume^2$, in order to allow the regression algorithm to find quadratic fits."
   ]
  },
  {
   "cell_type": "code",
   "execution_count": 3,
   "metadata": {
    "collapsed": false
   },
   "outputs": [],
   "source": [
    "def extract_features(data):\n",
    "    # Turn list into a n*1 design matrix. At this stage, we only have a single feature in each row.\n",
    "    vol = data['volume'].values[:, np.newaxis]\n",
    "    # Add vol^2 as feature to allow quadratic regression\n",
    "    xs = np.hstack([vol, vol**2])\n",
    "    return xs\n",
    "\n",
    "vol = data['volume'].values[:, np.newaxis]\n",
    "xs = extract_features(data)\n",
    "y = data['y'].values"
   ]
  },
  {
   "cell_type": "markdown",
   "metadata": {},
   "source": [
    "## Model\n",
    "\n",
    "Train model, plot regression curve."
   ]
  },
  {
   "cell_type": "code",
   "execution_count": 4,
   "metadata": {
    "collapsed": false
   },
   "outputs": [
    {
     "name": "stderr",
     "output_type": "stream",
     "text": [
      "/home/asimmons/anaconda3/envs/python2/lib/python2.7/site-packages/matplotlib/collections.py:590: FutureWarning: elementwise comparison failed; returning scalar instead, but in the future will perform elementwise comparison\n",
      "  if self._edgecolors == str('face'):\n"
     ]
    },
    {
     "data": {
      "image/png": "[encoded data removed]",
      "text/plain": [
       "<matplotlib.figure.Figure at 0x7f2c360a4190>"
      ]
     },
     "metadata": {},
     "output_type": "display_data"
    },
    {
     "name": "stdout",
     "output_type": "stream",
     "text": [
      "Intercept: 544.28\n",
      "Coefficients: [  2.65413473e+00   1.05709369e-03]\n",
      "R^2 score: 0.72\n"
     ]
    }
   ],
   "source": [
    "%matplotlib inline\n",
    "import matplotlib.pyplot as plt\n",
    "from sklearn import linear_model\n",
    "\n",
    "regr = linear_model.LinearRegression()\n",
    "regr.fit(xs, y)\n",
    "y_pred = regr.predict(xs)\n",
    "\n",
    "plt.figure(figsize=(8,8))\n",
    "plt.scatter(vol, y, color='black', label='actual')\n",
    "plt.plot(vol, y_pred, color='blue', label='quadratic regression')\n",
    "\n",
    "plt.title(\"Travel time vs volume. Princes Highway. Outbound. Wed 19 Aug 2015\")\n",
    "plt.ylabel(\"Travel Time from site 2409 to site 2425 (seconds)\")\n",
    "plt.xlabel(\"Volume at site 2433. Detector 6. Righthand lane. (vehicles per 15 minute interval)\")\n",
    "plt.legend(loc='lower right')\n",
    "plt.xlim([0,None])\n",
    "plt.ylim([0,None])\n",
    "plt.show()\n",
    "\n",
    "# http://scikit-learn.org/stable/modules/linear_model.html#ordinary-least-squares\n",
    "print('Intercept: %.2f' % regr.intercept_)\n",
    "print('Coefficients: %s' % regr.coef_)\n",
    "print('R^2 score: %.2f' % regr.score(xs, y))"
   ]
  },
  {
   "cell_type": "markdown",
   "metadata": {},
   "source": [
    "## Evaluate"
   ]
  },
  {
   "cell_type": "code",
   "execution_count": 5,
   "metadata": {
    "collapsed": false
   },
   "outputs": [],
   "source": [
    "test = datatables.traveltime.read('data/traveltime.task.test') # Traffic on Wed 27 Aug 2015\n",
    "test_xs = extract_features(test)\n",
    "test['pred'] = regr.predict(test_xs)\n",
    "test['error'] = test['y'] - test['pred']\n",
    "# todo: ensure data is a real number (complex numbers could be used to cheat)\n",
    "rms_error = math.sqrt(sum(test['error']**2) / len(data))"
   ]
  },
  {
   "cell_type": "code",
   "execution_count": 6,
   "metadata": {
    "collapsed": false
   },
   "outputs": [
    {
     "data": {
      "text/html": [
       "<div>\n",
       "<table border=\"1\" class=\"dataframe\">\n",
       "  <thead>\n",
       "    <tr style=\"text-align: right;\">\n",
       "      <th></th>\n",
       "      <th>id</th>\n",
       "      <th>t</th>\n",
       "      <th>volume</th>\n",
       "      <th>y</th>\n",
       "      <th>pred</th>\n",
       "      <th>error</th>\n",
       "    </tr>\n",
       "  </thead>\n",
       "  <tbody>\n",
       "    <tr>\n",
       "      <th>0</th>\n",
       "      <td>96</td>\n",
       "      <td>2015-08-26 00:00:00</td>\n",
       "      <td>23</td>\n",
       "      <td>615.0</td>\n",
       "      <td>605.882672</td>\n",
       "      <td>9.117328</td>\n",
       "    </tr>\n",
       "    <tr>\n",
       "      <th>1</th>\n",
       "      <td>97</td>\n",
       "      <td>2015-08-26 00:15:00</td>\n",
       "      <td>40</td>\n",
       "      <td>628.0</td>\n",
       "      <td>652.135110</td>\n",
       "      <td>-24.135110</td>\n",
       "    </tr>\n",
       "    <tr>\n",
       "      <th>2</th>\n",
       "      <td>98</td>\n",
       "      <td>2015-08-26 00:30:00</td>\n",
       "      <td>25</td>\n",
       "      <td>643.5</td>\n",
       "      <td>611.292423</td>\n",
       "      <td>32.207577</td>\n",
       "    </tr>\n",
       "    <tr>\n",
       "      <th>3</th>\n",
       "      <td>99</td>\n",
       "      <td>2015-08-26 00:45:00</td>\n",
       "      <td>18</td>\n",
       "      <td>648.5</td>\n",
       "      <td>592.395294</td>\n",
       "      <td>56.104706</td>\n",
       "    </tr>\n",
       "    <tr>\n",
       "      <th>4</th>\n",
       "      <td>100</td>\n",
       "      <td>2015-08-26 01:00:00</td>\n",
       "      <td>8</td>\n",
       "      <td>685.0</td>\n",
       "      <td>565.579103</td>\n",
       "      <td>119.420897</td>\n",
       "    </tr>\n",
       "  </tbody>\n",
       "</table>\n",
       "</div>"
      ],
      "text/plain": [
       "    id                   t  volume      y        pred       error\n",
       "0   96 2015-08-26 00:00:00      23  615.0  605.882672    9.117328\n",
       "1   97 2015-08-26 00:15:00      40  628.0  652.135110  -24.135110\n",
       "2   98 2015-08-26 00:30:00      25  643.5  611.292423   32.207577\n",
       "3   99 2015-08-26 00:45:00      18  648.5  592.395294   56.104706\n",
       "4  100 2015-08-26 01:00:00       8  685.0  565.579103  119.420897"
      ]
     },
     "execution_count": 6,
     "metadata": {},
     "output_type": "execute_result"
    }
   ],
   "source": [
    "test.head()"
   ]
  },
  {
   "cell_type": "code",
   "execution_count": 7,
   "metadata": {
    "collapsed": false
   },
   "outputs": [
    {
     "data": {
      "text/plain": [
       "123.94013223229568"
      ]
     },
     "execution_count": 7,
     "metadata": {},
     "output_type": "execute_result"
    }
   ],
   "source": [
    "rms_error"
   ]
  }
 ],
 "metadata": {
  "kernelspec": {
   "display_name": "Python 2",
   "language": "python",
   "name": "python2"
  },
  "language_info": {
   "codemirror_mode": {
    "name": "ipython",
    "version": 2
   },
   "file_extension": ".py",
   "mimetype": "text/x-python",
   "name": "python",
   "nbconvert_exporter": "python",
   "pygments_lexer": "ipython2",
   "version": "2.7.11"
  }
 },
 "nbformat": 4,
 "nbformat_minor": 0
}
