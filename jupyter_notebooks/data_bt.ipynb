{
 "cells": [
  {
   "cell_type": "markdown",
   "metadata": {},
   "source": [
    "# Wrangle Bluetooth Data\n",
    "\n",
    "We wrangle the bluetooth data into a workable format, and extract the travel time between the sites we are interested in."
   ]
  },
  {
   "cell_type": "markdown",
   "metadata": {},
   "source": [
    "## Import data"
   ]
  },
  {
   "cell_type": "code",
   "execution_count": 1,
   "metadata": {
    "collapsed": false,
    "scrolled": true
   },
   "outputs": [
    {
     "data": {
      "text/html": [
       "<div>\n",
       "<table border=\"1\" class=\"dataframe\">\n",
       "  <thead>\n",
       "    <tr style=\"text-align: right;\">\n",
       "      <th></th>\n",
       "      <th>Site</th>\n",
       "      <th>Unix Time</th>\n",
       "      <th>Anonymized Bluetooth ID</th>\n",
       "    </tr>\n",
       "  </thead>\n",
       "  <tbody>\n",
       "    <tr>\n",
       "      <th>0</th>\n",
       "      <td>2409</td>\n",
       "      <td>1439942412</td>\n",
       "      <td>7D5561C29B78282F0AF56B411FABF392</td>\n",
       "    </tr>\n",
       "    <tr>\n",
       "      <th>1</th>\n",
       "      <td>2425</td>\n",
       "      <td>1439942415</td>\n",
       "      <td>135B591E6C16C88BA6CBB6CF5E0D445B</td>\n",
       "    </tr>\n",
       "    <tr>\n",
       "      <th>2</th>\n",
       "      <td>2409</td>\n",
       "      <td>1439942420</td>\n",
       "      <td>2469C4DB6C18C45FCF93B4ED49326231</td>\n",
       "    </tr>\n",
       "    <tr>\n",
       "      <th>3</th>\n",
       "      <td>2409</td>\n",
       "      <td>1439942434</td>\n",
       "      <td>9B2E7BB216C39A75608D0C162BA96296</td>\n",
       "    </tr>\n",
       "    <tr>\n",
       "      <th>4</th>\n",
       "      <td>2425</td>\n",
       "      <td>1439942434</td>\n",
       "      <td>DB7E50C1566C81CB7BC7E38E3268D5B7</td>\n",
       "    </tr>\n",
       "  </tbody>\n",
       "</table>\n",
       "</div>"
      ],
      "text/plain": [
       "   Site   Unix Time           Anonymized Bluetooth ID\n",
       "0  2409  1439942412  7D5561C29B78282F0AF56B411FABF392\n",
       "1  2425  1439942415  135B591E6C16C88BA6CBB6CF5E0D445B\n",
       "2  2409  1439942420  2469C4DB6C18C45FCF93B4ED49326231\n",
       "3  2409  1439942434  9B2E7BB216C39A75608D0C162BA96296\n",
       "4  2425  1439942434  DB7E50C1566C81CB7BC7E38E3268D5B7"
      ]
     },
     "execution_count": 1,
     "metadata": {},
     "output_type": "execute_result"
    }
   ],
   "source": [
    "import pandas as pd\n",
    "f = pd.read_csv('../data/BLUETH_20150819.filtered.BT', header=None, names=['Site', 'Unix Time', 'Anonymized Bluetooth ID'])\n",
    "f.head()"
   ]
  },
  {
   "cell_type": "markdown",
   "metadata": {},
   "source": [
    "## Sort and Group\n",
    "\n",
    "Collect together vehicles based on their bluetooth ID. Sort by time."
   ]
  },
  {
   "cell_type": "code",
   "execution_count": 2,
   "metadata": {
    "collapsed": false,
    "scrolled": false
   },
   "outputs": [
    {
     "data": {
      "text/html": [
       "<div>\n",
       "<table border=\"1\" class=\"dataframe\">\n",
       "  <thead>\n",
       "    <tr style=\"text-align: right;\">\n",
       "      <th></th>\n",
       "      <th>Site</th>\n",
       "      <th>Unix Time</th>\n",
       "      <th>Anonymized Bluetooth ID</th>\n",
       "    </tr>\n",
       "  </thead>\n",
       "  <tbody>\n",
       "    <tr>\n",
       "      <th>37710</th>\n",
       "      <td>2425</td>\n",
       "      <td>1439992916</td>\n",
       "      <td>0003EC7E6B7C10F03B1FD275C31C3091</td>\n",
       "    </tr>\n",
       "    <tr>\n",
       "      <th>37716</th>\n",
       "      <td>2425</td>\n",
       "      <td>1439992921</td>\n",
       "      <td>0003EC7E6B7C10F03B1FD275C31C3091</td>\n",
       "    </tr>\n",
       "    <tr>\n",
       "      <th>37737</th>\n",
       "      <td>2425</td>\n",
       "      <td>1439992941</td>\n",
       "      <td>0003EC7E6B7C10F03B1FD275C31C3091</td>\n",
       "    </tr>\n",
       "    <tr>\n",
       "      <th>41305</th>\n",
       "      <td>2425</td>\n",
       "      <td>1439995956</td>\n",
       "      <td>0003EC7E6B7C10F03B1FD275C31C3091</td>\n",
       "    </tr>\n",
       "    <tr>\n",
       "      <th>48182</th>\n",
       "      <td>2425</td>\n",
       "      <td>1440001697</td>\n",
       "      <td>0003EC7E6B7C10F03B1FD275C31C3091</td>\n",
       "    </tr>\n",
       "  </tbody>\n",
       "</table>\n",
       "</div>"
      ],
      "text/plain": [
       "       Site   Unix Time           Anonymized Bluetooth ID\n",
       "37710  2425  1439992916  0003EC7E6B7C10F03B1FD275C31C3091\n",
       "37716  2425  1439992921  0003EC7E6B7C10F03B1FD275C31C3091\n",
       "37737  2425  1439992941  0003EC7E6B7C10F03B1FD275C31C3091\n",
       "41305  2425  1439995956  0003EC7E6B7C10F03B1FD275C31C3091\n",
       "48182  2425  1440001697  0003EC7E6B7C10F03B1FD275C31C3091"
      ]
     },
     "execution_count": 2,
     "metadata": {},
     "output_type": "execute_result"
    }
   ],
   "source": [
    "f_sorted = f.sort_values(by=['Anonymized Bluetooth ID', 'Unix Time'])\n",
    "f_sorted.head()"
   ]
  },
  {
   "cell_type": "code",
   "execution_count": 3,
   "metadata": {
    "collapsed": false
   },
   "outputs": [],
   "source": [
    "f_groups = f_sorted.groupby(['Anonymized Bluetooth ID'])"
   ]
  },
  {
   "cell_type": "code",
   "execution_count": 4,
   "metadata": {
    "collapsed": false
   },
   "outputs": [
    {
     "data": {
      "text/html": [
       "<div>\n",
       "<table border=\"1\" class=\"dataframe\">\n",
       "  <thead>\n",
       "    <tr style=\"text-align: right;\">\n",
       "      <th></th>\n",
       "      <th>Site</th>\n",
       "      <th>Unix Time</th>\n",
       "      <th>Anonymized Bluetooth ID</th>\n",
       "    </tr>\n",
       "  </thead>\n",
       "  <tbody>\n",
       "    <tr>\n",
       "      <th>14984</th>\n",
       "      <td>2425</td>\n",
       "      <td>1439973653</td>\n",
       "      <td>000B1865B7FAA931B56B92C344F6B56B</td>\n",
       "    </tr>\n",
       "    <tr>\n",
       "      <th>14992</th>\n",
       "      <td>2425</td>\n",
       "      <td>1439973663</td>\n",
       "      <td>000B1865B7FAA931B56B92C344F6B56B</td>\n",
       "    </tr>\n",
       "    <tr>\n",
       "      <th>15016</th>\n",
       "      <td>2425</td>\n",
       "      <td>1439973687</td>\n",
       "      <td>000B1865B7FAA931B56B92C344F6B56B</td>\n",
       "    </tr>\n",
       "    <tr>\n",
       "      <th>15032</th>\n",
       "      <td>2425</td>\n",
       "      <td>1439973707</td>\n",
       "      <td>000B1865B7FAA931B56B92C344F6B56B</td>\n",
       "    </tr>\n",
       "    <tr>\n",
       "      <th>15045</th>\n",
       "      <td>2425</td>\n",
       "      <td>1439973725</td>\n",
       "      <td>000B1865B7FAA931B56B92C344F6B56B</td>\n",
       "    </tr>\n",
       "    <tr>\n",
       "      <th>15071</th>\n",
       "      <td>2425</td>\n",
       "      <td>1439973746</td>\n",
       "      <td>000B1865B7FAA931B56B92C344F6B56B</td>\n",
       "    </tr>\n",
       "    <tr>\n",
       "      <th>56527</th>\n",
       "      <td>2409</td>\n",
       "      <td>1440008826</td>\n",
       "      <td>000B1865B7FAA931B56B92C344F6B56B</td>\n",
       "    </tr>\n",
       "    <tr>\n",
       "      <th>57289</th>\n",
       "      <td>2425</td>\n",
       "      <td>1440009666</td>\n",
       "      <td>000B1865B7FAA931B56B92C344F6B56B</td>\n",
       "    </tr>\n",
       "    <tr>\n",
       "      <th>57317</th>\n",
       "      <td>2425</td>\n",
       "      <td>1440009693</td>\n",
       "      <td>000B1865B7FAA931B56B92C344F6B56B</td>\n",
       "    </tr>\n",
       "    <tr>\n",
       "      <th>57334</th>\n",
       "      <td>2425</td>\n",
       "      <td>1440009707</td>\n",
       "      <td>000B1865B7FAA931B56B92C344F6B56B</td>\n",
       "    </tr>\n",
       "    <tr>\n",
       "      <th>57366</th>\n",
       "      <td>2425</td>\n",
       "      <td>1440009737</td>\n",
       "      <td>000B1865B7FAA931B56B92C344F6B56B</td>\n",
       "    </tr>\n",
       "  </tbody>\n",
       "</table>\n",
       "</div>"
      ],
      "text/plain": [
       "       Site   Unix Time           Anonymized Bluetooth ID\n",
       "14984  2425  1439973653  000B1865B7FAA931B56B92C344F6B56B\n",
       "14992  2425  1439973663  000B1865B7FAA931B56B92C344F6B56B\n",
       "15016  2425  1439973687  000B1865B7FAA931B56B92C344F6B56B\n",
       "15032  2425  1439973707  000B1865B7FAA931B56B92C344F6B56B\n",
       "15045  2425  1439973725  000B1865B7FAA931B56B92C344F6B56B\n",
       "15071  2425  1439973746  000B1865B7FAA931B56B92C344F6B56B\n",
       "56527  2409  1440008826  000B1865B7FAA931B56B92C344F6B56B\n",
       "57289  2425  1440009666  000B1865B7FAA931B56B92C344F6B56B\n",
       "57317  2425  1440009693  000B1865B7FAA931B56B92C344F6B56B\n",
       "57334  2425  1440009707  000B1865B7FAA931B56B92C344F6B56B\n",
       "57366  2425  1440009737  000B1865B7FAA931B56B92C344F6B56B"
      ]
     },
     "execution_count": 4,
     "metadata": {},
     "output_type": "execute_result"
    }
   ],
   "source": [
    "# trace of vehicle with bluetooth id 000B18...\n",
    "sample_veh = f_groups.get_group('000B1865B7FAA931B56B92C344F6B56B')\n",
    "sample_veh"
   ]
  },
  {
   "cell_type": "markdown",
   "metadata": {},
   "source": [
    "## Segments\n",
    "\n",
    "Track travel time between sequentially visited sites"
   ]
  },
  {
   "cell_type": "code",
   "execution_count": 5,
   "metadata": {
    "collapsed": false
   },
   "outputs": [
    {
     "data": {
      "text/plain": [
       "[('000B1865B7FAA931B56B92C344F6B56B', 2425, 2409, 1439973746, 1440008826),\n",
       " ('000B1865B7FAA931B56B92C344F6B56B', 2409, 2425, 1440008826, 1440009666)]"
      ]
     },
     "execution_count": 5,
     "metadata": {},
     "output_type": "execute_result"
    }
   ],
   "source": [
    "def segments(df):\n",
    "    \"\"\"\n",
    "    Convert ordered table of visited sites into segments between adjacent nodes.\n",
    "    dataframe -- site, time, bluetooth_id\n",
    "    \"\"\"\n",
    "    results = []\n",
    "    last_row = None\n",
    "    for index, row in df.iterrows():\n",
    "        if last_row is not None and row[\"Site\"] != last_row[\"Site\"]:\n",
    "            segment = (last_row[\"Anonymized Bluetooth ID\"],\n",
    "                       last_row[\"Site\"],\n",
    "                       row[\"Site\"],\n",
    "                       last_row[\"Unix Time\"],\n",
    "                       row[\"Unix Time\"])\n",
    "            results.append(segment)\n",
    "        last_row = row\n",
    "    return results\n",
    "\n",
    "segments(sample_veh)"
   ]
  },
  {
   "cell_type": "code",
   "execution_count": 6,
   "metadata": {
    "collapsed": false
   },
   "outputs": [],
   "source": [
    "results = []\n",
    "for bt_id, data in f_groups:\n",
    "    for segment in segments(data):\n",
    "        results.append(segment)\n",
    "\n",
    "all_segments = pd.DataFrame(results,\n",
    "                            columns=('Anonymized Bluetooth ID', 'Site A', 'Site B', 'Time A', 'Time B'))"
   ]
  },
  {
   "cell_type": "code",
   "execution_count": 7,
   "metadata": {
    "collapsed": false,
    "scrolled": true
   },
   "outputs": [
    {
     "data": {
      "text/html": [
       "<div>\n",
       "<table border=\"1\" class=\"dataframe\">\n",
       "  <thead>\n",
       "    <tr style=\"text-align: right;\">\n",
       "      <th></th>\n",
       "      <th>Anonymized Bluetooth ID</th>\n",
       "      <th>Site A</th>\n",
       "      <th>Site B</th>\n",
       "      <th>Time A</th>\n",
       "      <th>Time B</th>\n",
       "    </tr>\n",
       "  </thead>\n",
       "  <tbody>\n",
       "    <tr>\n",
       "      <th>0</th>\n",
       "      <td>000B1865B7FAA931B56B92C344F6B56B</td>\n",
       "      <td>2425</td>\n",
       "      <td>2409</td>\n",
       "      <td>1439973746</td>\n",
       "      <td>1440008826</td>\n",
       "    </tr>\n",
       "    <tr>\n",
       "      <th>1</th>\n",
       "      <td>000B1865B7FAA931B56B92C344F6B56B</td>\n",
       "      <td>2409</td>\n",
       "      <td>2425</td>\n",
       "      <td>1440008826</td>\n",
       "      <td>1440009666</td>\n",
       "    </tr>\n",
       "    <tr>\n",
       "      <th>2</th>\n",
       "      <td>001504BE590593C444A53BBF36BB5766</td>\n",
       "      <td>2425</td>\n",
       "      <td>2409</td>\n",
       "      <td>1439960640</td>\n",
       "      <td>1439994312</td>\n",
       "    </tr>\n",
       "    <tr>\n",
       "      <th>3</th>\n",
       "      <td>001504BE590593C444A53BBF36BB5766</td>\n",
       "      <td>2409</td>\n",
       "      <td>2425</td>\n",
       "      <td>1439994312</td>\n",
       "      <td>1439995055</td>\n",
       "    </tr>\n",
       "    <tr>\n",
       "      <th>4</th>\n",
       "      <td>00A8D3A8D3193707A47512E332A04B8E</td>\n",
       "      <td>2425</td>\n",
       "      <td>2409</td>\n",
       "      <td>1439993496</td>\n",
       "      <td>1439994212</td>\n",
       "    </tr>\n",
       "  </tbody>\n",
       "</table>\n",
       "</div>"
      ],
      "text/plain": [
       "            Anonymized Bluetooth ID  Site A  Site B      Time A      Time B\n",
       "0  000B1865B7FAA931B56B92C344F6B56B    2425    2409  1439973746  1440008826\n",
       "1  000B1865B7FAA931B56B92C344F6B56B    2409    2425  1440008826  1440009666\n",
       "2  001504BE590593C444A53BBF36BB5766    2425    2409  1439960640  1439994312\n",
       "3  001504BE590593C444A53BBF36BB5766    2409    2425  1439994312  1439995055\n",
       "4  00A8D3A8D3193707A47512E332A04B8E    2425    2409  1439993496  1439994212"
      ]
     },
     "execution_count": 7,
     "metadata": {},
     "output_type": "execute_result"
    }
   ],
   "source": [
    "all_segments.head()"
   ]
  },
  {
   "cell_type": "markdown",
   "metadata": {},
   "source": [
    "# Filter Direction\n",
    "\n",
    "Consider only outbound/westbound traffic originating from site 2409, traveling to site 2425"
   ]
  },
  {
   "cell_type": "code",
   "execution_count": 8,
   "metadata": {
    "collapsed": true
   },
   "outputs": [],
   "source": [
    "inbound = all_segments[all_segments[\"Site A\"] == 2409]"
   ]
  },
  {
   "cell_type": "code",
   "execution_count": 9,
   "metadata": {
    "collapsed": false,
    "scrolled": true
   },
   "outputs": [
    {
     "data": {
      "text/html": [
       "<div>\n",
       "<table border=\"1\" class=\"dataframe\">\n",
       "  <thead>\n",
       "    <tr style=\"text-align: right;\">\n",
       "      <th></th>\n",
       "      <th>Anonymized Bluetooth ID</th>\n",
       "      <th>Site A</th>\n",
       "      <th>Site B</th>\n",
       "      <th>Time A</th>\n",
       "      <th>Time B</th>\n",
       "    </tr>\n",
       "  </thead>\n",
       "  <tbody>\n",
       "    <tr>\n",
       "      <th>1</th>\n",
       "      <td>000B1865B7FAA931B56B92C344F6B56B</td>\n",
       "      <td>2409</td>\n",
       "      <td>2425</td>\n",
       "      <td>1440008826</td>\n",
       "      <td>1440009666</td>\n",
       "    </tr>\n",
       "    <tr>\n",
       "      <th>3</th>\n",
       "      <td>001504BE590593C444A53BBF36BB5766</td>\n",
       "      <td>2409</td>\n",
       "      <td>2425</td>\n",
       "      <td>1439994312</td>\n",
       "      <td>1439995055</td>\n",
       "    </tr>\n",
       "    <tr>\n",
       "      <th>6</th>\n",
       "      <td>00AA2C5E7B0FC69467FCA798179BC41F</td>\n",
       "      <td>2409</td>\n",
       "      <td>2425</td>\n",
       "      <td>1439985342</td>\n",
       "      <td>1439986392</td>\n",
       "    </tr>\n",
       "    <tr>\n",
       "      <th>8</th>\n",
       "      <td>00AA2C5E7B0FC69467FCA798179BC41F</td>\n",
       "      <td>2409</td>\n",
       "      <td>2425</td>\n",
       "      <td>1440007983</td>\n",
       "      <td>1440009078</td>\n",
       "    </tr>\n",
       "    <tr>\n",
       "      <th>10</th>\n",
       "      <td>00E5C469BA14439C1591B02D64F9AE9E</td>\n",
       "      <td>2409</td>\n",
       "      <td>2425</td>\n",
       "      <td>1440000409</td>\n",
       "      <td>1440002050</td>\n",
       "    </tr>\n",
       "  </tbody>\n",
       "</table>\n",
       "</div>"
      ],
      "text/plain": [
       "             Anonymized Bluetooth ID  Site A  Site B      Time A      Time B\n",
       "1   000B1865B7FAA931B56B92C344F6B56B    2409    2425  1440008826  1440009666\n",
       "3   001504BE590593C444A53BBF36BB5766    2409    2425  1439994312  1439995055\n",
       "6   00AA2C5E7B0FC69467FCA798179BC41F    2409    2425  1439985342  1439986392\n",
       "8   00AA2C5E7B0FC69467FCA798179BC41F    2409    2425  1440007983  1440009078\n",
       "10  00E5C469BA14439C1591B02D64F9AE9E    2409    2425  1440000409  1440002050"
      ]
     },
     "execution_count": 9,
     "metadata": {},
     "output_type": "execute_result"
    }
   ],
   "source": [
    "inbound = inbound.copy()\n",
    "inbound.head()"
   ]
  },
  {
   "cell_type": "markdown",
   "metadata": {},
   "source": [
    "# Cacluate Travel Time"
   ]
  },
  {
   "cell_type": "code",
   "execution_count": 10,
   "metadata": {
    "collapsed": false
   },
   "outputs": [],
   "source": [
    "travel_time = inbound[\"Time B\"] - inbound[\"Time A\"]\n",
    "inbound[\"Travel Time\"] = travel_time"
   ]
  },
  {
   "cell_type": "code",
   "execution_count": 11,
   "metadata": {
    "collapsed": false,
    "scrolled": true
   },
   "outputs": [
    {
     "data": {
      "text/html": [
       "<div>\n",
       "<table border=\"1\" class=\"dataframe\">\n",
       "  <thead>\n",
       "    <tr style=\"text-align: right;\">\n",
       "      <th></th>\n",
       "      <th>Anonymized Bluetooth ID</th>\n",
       "      <th>Site A</th>\n",
       "      <th>Site B</th>\n",
       "      <th>Time A</th>\n",
       "      <th>Time B</th>\n",
       "      <th>Travel Time</th>\n",
       "    </tr>\n",
       "  </thead>\n",
       "  <tbody>\n",
       "    <tr>\n",
       "      <th>1</th>\n",
       "      <td>000B1865B7FAA931B56B92C344F6B56B</td>\n",
       "      <td>2409</td>\n",
       "      <td>2425</td>\n",
       "      <td>1440008826</td>\n",
       "      <td>1440009666</td>\n",
       "      <td>840</td>\n",
       "    </tr>\n",
       "    <tr>\n",
       "      <th>3</th>\n",
       "      <td>001504BE590593C444A53BBF36BB5766</td>\n",
       "      <td>2409</td>\n",
       "      <td>2425</td>\n",
       "      <td>1439994312</td>\n",
       "      <td>1439995055</td>\n",
       "      <td>743</td>\n",
       "    </tr>\n",
       "    <tr>\n",
       "      <th>6</th>\n",
       "      <td>00AA2C5E7B0FC69467FCA798179BC41F</td>\n",
       "      <td>2409</td>\n",
       "      <td>2425</td>\n",
       "      <td>1439985342</td>\n",
       "      <td>1439986392</td>\n",
       "      <td>1050</td>\n",
       "    </tr>\n",
       "    <tr>\n",
       "      <th>8</th>\n",
       "      <td>00AA2C5E7B0FC69467FCA798179BC41F</td>\n",
       "      <td>2409</td>\n",
       "      <td>2425</td>\n",
       "      <td>1440007983</td>\n",
       "      <td>1440009078</td>\n",
       "      <td>1095</td>\n",
       "    </tr>\n",
       "    <tr>\n",
       "      <th>10</th>\n",
       "      <td>00E5C469BA14439C1591B02D64F9AE9E</td>\n",
       "      <td>2409</td>\n",
       "      <td>2425</td>\n",
       "      <td>1440000409</td>\n",
       "      <td>1440002050</td>\n",
       "      <td>1641</td>\n",
       "    </tr>\n",
       "  </tbody>\n",
       "</table>\n",
       "</div>"
      ],
      "text/plain": [
       "             Anonymized Bluetooth ID  Site A  Site B      Time A      Time B  \\\n",
       "1   000B1865B7FAA931B56B92C344F6B56B    2409    2425  1440008826  1440009666   \n",
       "3   001504BE590593C444A53BBF36BB5766    2409    2425  1439994312  1439995055   \n",
       "6   00AA2C5E7B0FC69467FCA798179BC41F    2409    2425  1439985342  1439986392   \n",
       "8   00AA2C5E7B0FC69467FCA798179BC41F    2409    2425  1440007983  1440009078   \n",
       "10  00E5C469BA14439C1591B02D64F9AE9E    2409    2425  1440000409  1440002050   \n",
       "\n",
       "    Travel Time  \n",
       "1           840  \n",
       "3           743  \n",
       "6          1050  \n",
       "8          1095  \n",
       "10         1641  "
      ]
     },
     "execution_count": 11,
     "metadata": {},
     "output_type": "execute_result"
    }
   ],
   "source": [
    "inbound.head()"
   ]
  },
  {
   "cell_type": "markdown",
   "metadata": {},
   "source": [
    "# Plot Vehicle Travel Times"
   ]
  },
  {
   "cell_type": "code",
   "execution_count": 12,
   "metadata": {
    "collapsed": false
   },
   "outputs": [
    {
     "data": {
      "image/png": "[encoded data removed]",
      "text/plain": [
       "<matplotlib.figure.Figure at 0x7f5d26316e10>"
      ]
     },
     "metadata": {},
     "output_type": "display_data"
    }
   ],
   "source": [
    "%matplotlib inline\n",
    "import matplotlib.pyplot as plt\n",
    "import numpy as np\n",
    "\n",
    "tt = list(travel_time)\n",
    "bins = np.linspace(0, 2000, 101)\n",
    "plt.hist(tt, bins=bins)\n",
    "plt.show()"
   ]
  },
  {
   "cell_type": "code",
   "execution_count": 13,
   "metadata": {
    "collapsed": false
   },
   "outputs": [
    {
     "name": "stderr",
     "output_type": "stream",
     "text": [
      "/home/asimmons/anaconda3/lib/python3.5/site-packages/matplotlib/collections.py:590: FutureWarning: elementwise comparison failed; returning scalar instead, but in the future will perform elementwise comparison\n",
      "  if self._edgecolors == str('face'):\n"
     ]
    },
    {
     "data": {
      "image/png": "[encoded data removed]",
      "text/plain": [
       "<matplotlib.figure.Figure at 0x7f5d23b5fc88>"
      ]
     },
     "metadata": {},
     "output_type": "display_data"
    }
   ],
   "source": [
    "import calendar\n",
    "plt.figure(figsize=(16,8))\n",
    "start_of_day = calendar.timegm((2015,8,19,0,0,0))\n",
    "plt.scatter(list((inbound[\"Time A\"] - start_of_day)/3600), list(inbound[\"Travel Time\"]))\n",
    "plt.title(\"Travel time from site 2409 (Chapel St) to 2425 (Warrigal Rd) along Princes Highway (Outbound). Wed 19 Aug 2015.\")\n",
    "plt.ylabel(\"Travel Time (seconds)\")\n",
    "plt.xlabel(\"Time Leave (Hour)\")\n",
    "plt.xticks(np.arange(24))\n",
    "plt.xlim([0,24])\n",
    "plt.ylim([0,2000])\n",
    "plt.axhline(y=1800, color='grey') # threshold\n",
    "plt.show()"
   ]
  },
  {
   "cell_type": "markdown",
   "metadata": {},
   "source": [
    "# Aggregate\n",
    "\n",
    "Aggregate into 15 minute bins. Some vehicles stop along the way, take a longer route, or only pass the other site on the way back from their desitination. We eliminate these by only considering reasonable travel times, then taking the median value."
   ]
  },
  {
   "cell_type": "code",
   "execution_count": 14,
   "metadata": {
    "collapsed": true
   },
   "outputs": [],
   "source": [
    "# Filter extreme travel times\n",
    "inbound = inbound[inbound[\"Travel Time\"] <= 1800]"
   ]
  },
  {
   "cell_type": "code",
   "execution_count": 15,
   "metadata": {
    "collapsed": false,
    "scrolled": true
   },
   "outputs": [
    {
     "data": {
      "text/plain": [
       "1781"
      ]
     },
     "execution_count": 15,
     "metadata": {},
     "output_type": "execute_result"
    }
   ],
   "source": [
    "max(inbound[\"Travel Time\"])"
   ]
  },
  {
   "cell_type": "markdown",
   "metadata": {},
   "source": [
    "Experiment with timezones. Times *should* be stated as seconds since the Unix Epoch (00:00:00 UTC 1970), which would result in the start of the Australian day being 10:00:00 UTC. Since this is not the case, it seems that VicRoads has set their server clock to localtime rather than UTC. This is wrong, but convenient."
   ]
  },
  {
   "cell_type": "code",
   "execution_count": 16,
   "metadata": {
    "collapsed": false,
    "scrolled": true
   },
   "outputs": [
    {
     "name": "stdout",
     "output_type": "stream",
     "text": [
      "1439942420\n",
      "2015-08-19 00:00:20\n"
     ]
    }
   ],
   "source": [
    "import datetime\n",
    "start_of_day = min(inbound[\"Time A\"])\n",
    "print (start_of_day)\n",
    "print (datetime.datetime.utcfromtimestamp(start_of_day))"
   ]
  },
  {
   "cell_type": "code",
   "execution_count": 17,
   "metadata": {
    "collapsed": false
   },
   "outputs": [],
   "source": [
    "import datetime\n",
    "\n",
    "def parse_date(unix_time):\n",
    "    d_utc = datetime.datetime.utcfromtimestamp(unix_time)\n",
    "    # Unix servers *should* have their system clock set to UTC.\n",
    "    # So we theoretically, we need to convert from UTC to AEST (localtime).\n",
    "    # However, VicRoads seems to have set their operating system clock to AEST.\n",
    "    # The easiest way to deal with this, is to treat all datetimes as naive (ignore timezone).\n",
    "    # TLDR; VicRoads didn't handle timezones correctly. We need to copy their error for consistency.\n",
    "    d_local = d_utc # Naive datetime. It's already shifted to AEST (but shouldn't be)\n",
    "    return d_local\n",
    "\n",
    "ts = pd.Series(list(inbound[\"Travel Time\"]),\n",
    "               index=list([parse_date(t) for t in inbound[\"Time A\"]]))"
   ]
  },
  {
   "cell_type": "code",
   "execution_count": 18,
   "metadata": {
    "collapsed": false,
    "scrolled": true
   },
   "outputs": [
    {
     "data": {
      "text/plain": [
       "2015-08-19 23:38:37    737\n",
       "2015-08-19 23:39:07    679\n",
       "2015-08-19 23:42:43    562\n",
       "2015-08-19 23:44:46    596\n",
       "2015-08-19 23:44:50    603\n",
       "dtype: int64"
      ]
     },
     "execution_count": 18,
     "metadata": {},
     "output_type": "execute_result"
    }
   ],
   "source": [
    "ts.sort_index().tail()"
   ]
  },
  {
   "cell_type": "code",
   "execution_count": 19,
   "metadata": {
    "collapsed": false
   },
   "outputs": [],
   "source": [
    "ts_resampled = ts.resample('15Min', how='median')\n",
    "\n",
    "# Index over entire day, even if some times are missing. Last 15 minutes usualy not present.\n",
    "rng = pd.date_range('2015-08-19 00:00:00', periods=24*4, freq='15Min')\n",
    "ts_resampled = pd.Series(ts_resampled, index=rng)\n",
    "\n",
    "# Fill in missing values\n",
    "ts_resampled = ts_resampled.fillna(method='pad')"
   ]
  },
  {
   "cell_type": "code",
   "execution_count": 20,
   "metadata": {
    "collapsed": false,
    "scrolled": false
   },
   "outputs": [
    {
     "data": {
      "text/plain": [
       "2015-08-19 22:45:00    620.5\n",
       "2015-08-19 23:00:00    760.0\n",
       "2015-08-19 23:15:00    676.0\n",
       "2015-08-19 23:30:00    643.0\n",
       "2015-08-19 23:45:00    643.0\n",
       "Freq: 15T, dtype: float64"
      ]
     },
     "execution_count": 20,
     "metadata": {},
     "output_type": "execute_result"
    }
   ],
   "source": [
    "ts_resampled.tail()"
   ]
  },
  {
   "cell_type": "markdown",
   "metadata": {},
   "source": [
    "# Plot Aggregated Travel Times"
   ]
  },
  {
   "cell_type": "code",
   "execution_count": 21,
   "metadata": {
    "collapsed": false,
    "scrolled": true
   },
   "outputs": [
    {
     "name": "stderr",
     "output_type": "stream",
     "text": [
      "/home/asimmons/anaconda3/lib/python3.5/site-packages/matplotlib/collections.py:590: FutureWarning: elementwise comparison failed; returning scalar instead, but in the future will perform elementwise comparison\n",
      "  if self._edgecolors == str('face'):\n"
     ]
    },
    {
     "data": {
      "image/png": "[encoded data removed]",
      "text/plain": [
       "<matplotlib.figure.Figure at 0x7f5d20199320>"
      ]
     },
     "metadata": {},
     "output_type": "display_data"
    }
   ],
   "source": [
    "plt.figure(figsize=(16,8))\n",
    "plt.scatter(np.arange(len(ts_resampled)), ts_resampled.values)\n",
    "plt.title(\"Travel time from site 2409 (Chapel St) to 2425 (Warrigal Rd) along Princes Highway (Outbound). Wed 19 Aug 2015\")\n",
    "plt.ylabel(\"Travel Time (seconds)\")\n",
    "plt.xlabel(\"Time Leave (15 min offset)\")\n",
    "plt.xlim([0,95])\n",
    "plt.ylim([0,2000])\n",
    "plt.show()"
   ]
  }
 ],
 "metadata": {
  "kernelspec": {
   "display_name": "Python 3",
   "language": "python",
   "name": "python3"
  },
  "language_info": {
   "codemirror_mode": {
    "name": "ipython",
    "version": 3
   },
   "file_extension": ".py",
   "mimetype": "text/x-python",
   "name": "python",
   "nbconvert_exporter": "python",
   "pygments_lexer": "ipython3",
   "version": "3.5.0"
  }
 },
 "nbformat": 4,
 "nbformat_minor": 0
}
