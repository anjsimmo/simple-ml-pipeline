{
 "cells": [
  {
   "cell_type": "markdown",
   "metadata": {},
   "source": [
    "# Merge Data\n",
    "\n",
    "We join the Bluetooth Travel Time data to the Traffic Volumes. This allows us to use Traffic Volume as a predictor of Travel Time."
   ]
  },
  {
   "cell_type": "code",
   "execution_count": 1,
   "metadata": {
    "collapsed": false
   },
   "outputs": [],
   "source": [
    "import pandas as pd\n",
    "import numpy as np\n",
    "bt = pd.read_csv('../data/BLUETH_20150819.traveltime', header=None, names=['t', 'travel time'])\n",
    "vs = pd.read_csv('../data/VSDATA_20150819.volume', header=None, names=['t', 'volume'])"
   ]
  },
  {
   "cell_type": "code",
   "execution_count": 2,
   "metadata": {
    "collapsed": false,
    "scrolled": true
   },
   "outputs": [
    {
     "data": {
      "text/html": [
       "<div>\n",
       "<table border=\"1\" class=\"dataframe\">\n",
       "  <thead>\n",
       "    <tr style=\"text-align: right;\">\n",
       "      <th></th>\n",
       "      <th>t</th>\n",
       "      <th>volume</th>\n",
       "      <th>travel time</th>\n",
       "    </tr>\n",
       "  </thead>\n",
       "  <tbody>\n",
       "    <tr>\n",
       "      <th>0</th>\n",
       "      <td>2015-08-19 00:00:00</td>\n",
       "      <td>32</td>\n",
       "      <td>660.0</td>\n",
       "    </tr>\n",
       "    <tr>\n",
       "      <th>1</th>\n",
       "      <td>2015-08-19 00:15:00</td>\n",
       "      <td>20</td>\n",
       "      <td>598.0</td>\n",
       "    </tr>\n",
       "    <tr>\n",
       "      <th>2</th>\n",
       "      <td>2015-08-19 00:30:00</td>\n",
       "      <td>24</td>\n",
       "      <td>637.5</td>\n",
       "    </tr>\n",
       "    <tr>\n",
       "      <th>3</th>\n",
       "      <td>2015-08-19 00:45:00</td>\n",
       "      <td>16</td>\n",
       "      <td>637.5</td>\n",
       "    </tr>\n",
       "    <tr>\n",
       "      <th>4</th>\n",
       "      <td>2015-08-19 01:00:00</td>\n",
       "      <td>9</td>\n",
       "      <td>566.0</td>\n",
       "    </tr>\n",
       "  </tbody>\n",
       "</table>\n",
       "</div>"
      ],
      "text/plain": [
       "                     t  volume  travel time\n",
       "0  2015-08-19 00:00:00      32        660.0\n",
       "1  2015-08-19 00:15:00      20        598.0\n",
       "2  2015-08-19 00:30:00      24        637.5\n",
       "3  2015-08-19 00:45:00      16        637.5\n",
       "4  2015-08-19 01:00:00       9        566.0"
      ]
     },
     "execution_count": 2,
     "metadata": {},
     "output_type": "execute_result"
    }
   ],
   "source": [
    "data = pd.merge(vs, bt, on='t', how='left')\n",
    "data.head()"
   ]
  }
 ],
 "metadata": {
  "kernelspec": {
   "display_name": "Python 3",
   "language": "python",
   "name": "python3"
  },
  "language_info": {
   "codemirror_mode": {
    "name": "ipython",
    "version": 3
   },
   "file_extension": ".py",
   "mimetype": "text/x-python",
   "name": "python",
   "nbconvert_exporter": "python",
   "pygments_lexer": "ipython3",
   "version": "3.5.0"
  }
 },
 "nbformat": 4,
 "nbformat_minor": 0
}
